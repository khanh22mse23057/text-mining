{
  "nbformat": 4,
  "nbformat_minor": 0,
  "metadata": {
    "colab": {
      "provenance": [],
      "include_colab_link": true
    },
    "kernelspec": {
      "name": "python3",
      "display_name": "Python 3"
    },
    "language_info": {
      "name": "python"
    }
  },
  "cells": [
    {
      "cell_type": "markdown",
      "metadata": {
        "id": "view-in-github",
        "colab_type": "text"
      },
      "source": [
        "<a href=\"https://colab.research.google.com/github/khanh22mse23057/text-mining/blob/main/Assignment_1.ipynb\" target=\"_parent\"><img src=\"https://colab.research.google.com/assets/colab-badge.svg\" alt=\"Open In Colab\"/></a>"
      ]
    },
    {
      "cell_type": "markdown",
      "source": [
        "# Introduction\n",
        "\n",
        "#### Name: Phạm Nguyễn Phú Khánh</br>\n",
        "#### Main Class: MSE#11HCM </br>\n",
        "#### Student ID: 22MSE23057 </br>\n",
        "#### Email: khanh22mse23057@fsb.edu.vn\n",
        "\n",
        "### **Problem Statement**: </br>\n",
        "Compute the edit distance (using insertion cost 1, deletion cost 1, substitution cost 1) of \"leda\" to \"deal\". Show the work."
      ],
      "metadata": {
        "id": "f_CpkJzHzGm4"
      }
    },
    {
      "cell_type": "markdown",
      "source": [
        "**Explanation**: </br>\n",
        "The code uses dynamic programming to build a matrix where each cell represents the minimum edit distance between substrings of the two input strings. We initialize the matrix with zeros and fill the first row and first column with values from 0 to the length of the respective strings.\n",
        "\n",
        "Then, we traverse the matrix row by row and column by column, comparing characters at each position. </br>\n",
        "If the characters are the same, no operation is needed, so the value in the current cell is the same as the diagonal cell (upper-left). </br>\n",
        "Otherwise, we calculate the cost of insertion, deletion, and substitution, and store the minimum cost in the current cell.\n",
        "\n",
        "Finally, we return the value in the bottom-right cell of the matrix, which represents the minimum edit distance between the entire strings. </br> \n",
        "In this case, the edit distance between \"leda\" and \"deal\" is 3."
      ],
      "metadata": {
        "id": "Hdd4qN8IxQ1F"
      }
    },
    {
      "cell_type": "markdown",
      "source": [
        "# Example in Python code"
      ],
      "metadata": {
        "id": "fHHsMSYiggtD"
      }
    },
    {
      "cell_type": "code",
      "execution_count": 2,
      "metadata": {
        "id": "-j_sTAJKd2wo"
      },
      "outputs": [],
      "source": [
        "def edit_distance(str1, str2):\n",
        "    # Initialize a matrix with dimensions (length of str1 + 1) x (length of str2 + 1)\n",
        "    matrix = [[0] * (len(str2) + 1) for _ in range(len(str1) + 1)]\n",
        "    \n",
        "    # Fill the first row with numbers 0 to len(str2)\n",
        "    for i in range(len(str2) + 1):\n",
        "        matrix[0][i] = i\n",
        "    \n",
        "    # Fill the first column with numbers 0 to len(str1)\n",
        "    for i in range(len(str1) + 1):\n",
        "        matrix[i][0] = i\n",
        "    \n",
        "    # Traverse the matrix and fill in the values based on the edit operations\n",
        "    for i in range(1, len(str1) + 1):\n",
        "        for j in range(1, len(str2) + 1):\n",
        "            # If the characters at the current positions are the same, no operation is needed\n",
        "            if str1[i-1] == str2[j-1]:\n",
        "                matrix[i][j] = matrix[i-1][j-1]\n",
        "            else:\n",
        "                # Calculate the cost of insertion, deletion, and substitution\n",
        "                insertion = matrix[i][j-1] + 1\n",
        "                deletion = matrix[i-1][j] + 1\n",
        "                substitution = matrix[i-1][j-1] + 1\n",
        "                \n",
        "                # Store the minimum cost among the three operations\n",
        "                matrix[i][j] = min(insertion, deletion, substitution)\n",
        "    \n",
        "    # Return the value in the bottom-right cell of the matrix\n",
        "    return matrix[-1][-1]\n",
        "\n"
      ]
    },
    {
      "cell_type": "code",
      "source": [
        "\n",
        "# Test the function\n",
        "str1 = \"leda\"\n",
        "str2 = \"deal\"\n",
        "distance = edit_distance(str1, str2)\n",
        "print(f\"The edit distance between '{str1}' and '{str2}' is: {distance}\")"
      ],
      "metadata": {
        "colab": {
          "base_uri": "https://localhost:8080/"
        },
        "id": "fNcihVWipb22",
        "outputId": "0541d68b-384c-43f4-f91c-e5a60bf914fc"
      },
      "execution_count": 3,
      "outputs": [
        {
          "output_type": "stream",
          "name": "stdout",
          "text": [
            "The edit distance between 'leda' and 'deal' is: 3\n"
          ]
        }
      ]
    }
  ]
}