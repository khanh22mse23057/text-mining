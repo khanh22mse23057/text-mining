{
  "nbformat": 4,
  "nbformat_minor": 0,
  "metadata": {
    "colab": {
      "provenance": [],
      "include_colab_link": true
    },
    "kernelspec": {
      "name": "python3",
      "display_name": "Python 3"
    },
    "language_info": {
      "name": "python"
    }
  },
  "cells": [
    {
      "cell_type": "markdown",
      "metadata": {
        "id": "view-in-github",
        "colab_type": "text"
      },
      "source": [
        "<a href=\"https://colab.research.google.com/github/khanh22mse23057/text-mining/blob/main/Assignment_02.ipynb\" target=\"_parent\"><img src=\"https://colab.research.google.com/assets/colab-badge.svg\" alt=\"Open In Colab\"/></a>"
      ]
    },
    {
      "cell_type": "markdown",
      "source": [
        "# Introduction\n",
        "\n",
        "#### Name: Phạm Nguyễn Phú Khánh</br>\n",
        "#### Main Class: MSE#11HCM </br>\n",
        "#### Student ID: 22MSE23057 </br>\n",
        "#### Email: khanh22mse23057@fsb.edu.vn\n",
        "\n",
        "### **Problem Statement**: </br>\n",
        "Rewrite the algorithm in Figure 6.4 to the case of more than two query terms."
      ],
      "metadata": {
        "id": "ZE1uDn00y3va"
      }
    },
    {
      "cell_type": "markdown",
      "source": [
        "# Pseudocode\n",
        "\n",
        "```\n",
        "ZONESCORE(List(q))\n",
        "\tfloat scores[N] = [0]\n",
        "\tconstant g[ℓ]\n",
        "  // MERGE function merges the posting list of all query term using algorithm in 1.6\n",
        "\tp <- MERGE(List(q)) \n",
        "\n",
        "\t// p is the merged posting list of all query terms\n",
        "\tWhile p is not NULL\n",
        "\t\tscores[docID[p]] = WeightZone(p,g)\n",
        "\t\tp <- next(p)\n",
        "\treturn scores\n",
        "\n",
        "```\n",
        "\n"
      ],
      "metadata": {
        "id": "aaJ9frAtY65M"
      }
    },
    {
      "cell_type": "markdown",
      "source": [
        "# Example in Python code"
      ],
      "metadata": {
        "id": "9Uua09N3g6P3"
      }
    },
    {
      "cell_type": "code",
      "source": [
        "from collections import defaultdict\n",
        "import math\n",
        "\n",
        "class Posting:\n",
        "    def __init__(self, docID, doc_length, zone):\n",
        "        self.docID = docID\n",
        "        self.doc_length = doc_length\n",
        "        self.zone = zone\n",
        "        self.next = None\n",
        "\n",
        "def ZONESCORE(query_terms):\n",
        "    scores = defaultdict(lambda: 0)\n",
        "    g = [1, 2, 3, 4, 5]  # Sample list of constants\n",
        "    \n",
        "    # Merge the posting list of all query terms\n",
        "    p = MERGE(query_terms)\n",
        "    \n",
        "    # Iterate over the merged posting list\n",
        "    while p is not None:\n",
        "        scores[p.docID] = WeightZone(p, g)\n",
        "        p = p.next\n",
        "    \n",
        "    return scores\n",
        "\n",
        "def MERGE(query_terms):\n",
        "    merged_posting_list = None\n",
        "    for term in query_terms:\n",
        "        posting_list = get_posting_list(term)\n",
        "        merged_posting_list = merge_lists(merged_posting_list, posting_list)\n",
        "    return merged_posting_list\n",
        "\n",
        "def merge_lists(list1, list2):\n",
        "    if list1 is None:\n",
        "        return list2\n",
        "    if list2 is None:\n",
        "        return list1\n",
        "    \n",
        "    merged_list = None\n",
        "    current_node = None\n",
        "    node1 = list1\n",
        "    node2 = list2\n",
        "    \n",
        "    while node1 is not None and node2 is not None:\n",
        "        if node1.docID == node2.docID:\n",
        "            if merged_list is None:\n",
        "                merged_list = Posting(node1.docID, node1.doc_length, node1.zone)\n",
        "                current_node = merged_list\n",
        "            else:\n",
        "                current_node.next = Posting(node1.docID, node1.doc_length, node1.zone)\n",
        "                current_node = current_node.next\n",
        "            node1 = node1.next\n",
        "            node2 = node2.next\n",
        "        elif node1.docID < node2.docID:\n",
        "            if merged_list is None:\n",
        "                merged_list = Posting(node1.docID, node1.doc_length, node1.zone)\n",
        "                current_node = merged_list\n",
        "            else:\n",
        "                current_node.next = Posting(node1.docID, node1.doc_length, node1.zone)\n",
        "                current_node = current_node.next\n",
        "            node1 = node1.next\n",
        "        else:\n",
        "            if merged_list is None:\n",
        "                merged_list = Posting(node2.docID, node2.doc_length, node2.zone)\n",
        "                current_node = merged_list\n",
        "            else:\n",
        "                current_node.next = Posting(node2.docID, node2.doc_length, node2.zone)\n",
        "                current_node = current_node.next\n",
        "            node2 = node2.next\n",
        "\n",
        "    return merged_list\n",
        "\n",
        "def WeightZone(p, g):\n",
        "    zone_score = 1 / (math.sqrt(p.doc_length) * g[p.zone])\n",
        "    return zone_score\n",
        "\n",
        "def get_posting_list(term):\n",
        "    if term == \"sample\":\n",
        "        return Posting(1, 150, 0)\n",
        "    elif term == \"multiple\":\n",
        "        return Posting(2, 200, 1)\n",
        "    elif term == \"sentences\":\n",
        "        return Posting(3, 120, 2)\n",
        "    else:\n",
        "        return None\n",
        "\n",
        "# Sample usage\n",
        "query_terms = [\"sample\", \"multiple\", \"sentences\"]\n",
        "scores = ZONESCORE(query_terms)\n",
        "#print(scores)\n",
        "\n",
        "# Print document scores\n",
        "for docID, score in scores.items():\n",
        "    print(\"Document ID:\", docID)\n",
        "    print(\"Score:\", score)\n",
        "    print()  # Empty line for separation\n"
      ],
      "metadata": {
        "id": "jrgeZl6yiAJs",
        "outputId": "e8515558-5472-4688-9c4c-4b20541efe58",
        "colab": {
          "base_uri": "https://localhost:8080/"
        }
      },
      "execution_count": 33,
      "outputs": [
        {
          "output_type": "stream",
          "name": "stdout",
          "text": [
            "Document ID: 1\n",
            "Score: 0.08164965809277261\n",
            "\n"
          ]
        }
      ]
    }
  ]
}