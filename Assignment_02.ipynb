{
  "nbformat": 4,
  "nbformat_minor": 0,
  "metadata": {
    "colab": {
      "provenance": [],
      "include_colab_link": true
    },
    "kernelspec": {
      "name": "python3",
      "display_name": "Python 3"
    },
    "language_info": {
      "name": "python"
    }
  },
  "cells": [
    {
      "cell_type": "markdown",
      "metadata": {
        "id": "view-in-github",
        "colab_type": "text"
      },
      "source": [
        "<a href=\"https://colab.research.google.com/github/khanh22mse23057/text-mining/blob/main/Assignment_02.ipynb\" target=\"_parent\"><img src=\"https://colab.research.google.com/assets/colab-badge.svg\" alt=\"Open In Colab\"/></a>"
      ]
    },
    {
      "cell_type": "markdown",
      "source": [
        "# Introduction\n",
        "\n",
        "Name: Nguyễn Minh Hiếu </br>\n",
        "Main Class: MSE#11HCM </br>\n",
        "Student ID: 22MSE23062 </br>\n",
        "Email: hieu22mse23062@fsb.edu.vn"
      ],
      "metadata": {
        "id": "ZE1uDn00y3va"
      }
    },
    {
      "cell_type": "markdown",
      "source": [
        "# Pseudocode\n",
        "\n",
        "```\n",
        "ZONE SCORE (queries)\n",
        "1 float scores[N] = [0]\n",
        "2 constant g[ℓ]\n",
        "3 postings_list[] = [] // Initialize an empty array to store postings lists for each query term\n",
        "4 for each query term q in queries\n",
        "5     postings_list[q] ← postings(q)\n",
        "6 // scores[] is an array with a score entry for each document, initialized to zero.\n",
        "7 // postings_list[] stores the postings lists for each query term.\n",
        "8 // Assume g[] is initialized to the respective zone weights.\n",
        "9 while not all postings lists in postings_list[] are empty\n",
        "10     min_doc_id ← INFINITY // Initialize with a large value\n",
        "11     for each query term q in queries\n",
        "12         if postings_list[q] is not empty and docID(postings_list[q]) < min_doc_id\n",
        "13             min_doc_id ← docID(postings_list[q])\n",
        "14     for each query term q in queries\n",
        "15         if postings_list[q] is not empty and docID(postings_list[q]) = min_doc_id\n",
        "16             scores[min_doc_id] ← scores[min_doc_id] + WEIGHTEDZONE(postings_list[q], g)\n",
        "17             move to the next document in postings_list[q]\n",
        "18 return scores\n",
        "\n",
        "```\n",
        "\n"
      ],
      "metadata": {
        "id": "wF9dWR5PgvZJ"
      }
    },
    {
      "cell_type": "markdown",
      "source": [
        "# Example in Python code"
      ],
      "metadata": {
        "id": "9Uua09N3g6P3"
      }
    },
    {
      "cell_type": "code",
      "execution_count": null,
      "metadata": {
        "colab": {
          "base_uri": "https://localhost:8080/"
        },
        "id": "l8DMEgaHcVia",
        "outputId": "9d740ce7-9b42-4800-c189-e9813fa391cf"
      },
      "outputs": [
        {
          "output_type": "stream",
          "name": "stdout",
          "text": [
            "Document 1: 2.7\n",
            "Document 2: 1.7999999999999998\n",
            "Document 3: 0.3\n",
            "Document 4: 1.2\n",
            "Document 5: 0\n"
          ]
        }
      ],
      "source": [
        "# Example data\n",
        "N = 5  # Number of documents\n",
        "queries = ['apple', 'banana', 'orange']  # Query terms\n",
        "postings_data = {\n",
        "    'apple': [1, 3, 4],  # Postings list for the term 'apple'\n",
        "    'banana': [2, 4, 5],  # Postings list for the term 'banana'\n",
        "    'orange': [1, 2, 4, 5]  # Postings list for the term 'orange'\n",
        "}\n",
        "\n",
        "# Function to retrieve postings list for a query term\n",
        "def postings(query):\n",
        "    return postings_data.get(query, [])\n",
        "\n",
        "# Function to get the document ID from the postings list\n",
        "def docID(postings_list):\n",
        "    return postings_list[0]\n",
        "\n",
        "# Function to calculate the weighted zone score\n",
        "def weighted_zone(postings_list, g):\n",
        "    # Dummy implementation, replace with actual calculation\n",
        "    return sum(g[docID] for docID in postings_list[1:])  # Sum of zone weights\n",
        "\n",
        "# Function to move to the next document in the postings list\n",
        "def move_to_next_document(postings_list):\n",
        "    postings_list.pop(0)  # Remove the current document ID\n",
        "\n",
        "# Function to calculate the zone scores for multiple query terms\n",
        "def zone_score(queries):\n",
        "    scores = [0] * N  # Initialize scores array\n",
        "\n",
        "    zone_weights = {\n",
        "    1: 0.5,  # Zone weight for document ID 1\n",
        "    2: 0.8,  # Zone weight for document ID 2\n",
        "    3: 0.7,  # Zone weight for document ID 3\n",
        "    4: 0.3,  # Zone weight for document ID 4\n",
        "    5: 0.6   # Zone weight for document ID 5\n",
        "}\n",
        "\n",
        "    # Initialize postings lists for each query term\n",
        "    postings_list = {}\n",
        "    for query in queries:\n",
        "        postings_list[query] = postings(query)\n",
        "\n",
        "    # Calculate zone scores\n",
        "    while any(postings_list.values()):\n",
        "        min_doc_id = float('inf')  # Initialize with a large value\n",
        "\n",
        "        # Find the minimum document ID across all query terms\n",
        "        for query in queries:\n",
        "            if postings_list[query] and docID(postings_list[query]) < min_doc_id:\n",
        "                min_doc_id = docID(postings_list[query])\n",
        "\n",
        "        # Update scores for the minimum document ID\n",
        "        for query in queries:\n",
        "            if postings_list[query] and docID(postings_list[query]) == min_doc_id:\n",
        "                scores[min_doc_id-1] += weighted_zone(postings_list[query], zone_weights)\n",
        "                move_to_next_document(postings_list[query])\n",
        "\n",
        "    return scores\n",
        "\n",
        "# Calculate zone scores\n",
        "scores = zone_score(queries)\n",
        "\n",
        "# Print the resulting scores\n",
        "for doc_id, score in enumerate(scores):\n",
        "    print(f\"Document {doc_id+1}: {score}\")\n"
      ]
    }
  ]
}